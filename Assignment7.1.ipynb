{
 "cells": [
  {
   "cell_type": "code",
   "execution_count": null,
   "metadata": {
    "collapsed": true
   },
   "outputs": [],
   "source": [
    "# Problem Statement 1:\n",
    "# A test is conducted which is consisting of 20 MCQs (multiple choices questions) with every MCQ having its four options out of which only one is correct. \n",
    "# Determine the probability that a person undertaking that test has answered exactly 5 questions wrong.\n",
    "\n",
    "Step 1: Determine the Formula:\n",
    "Binomial Distribution: Bernoulli trials where n = 1\n",
    "n = number of trials attempted, \n",
    "k = number of successes in ‘n’ trials\n",
    "n - k = number of failures\n",
    "s = probability of success in a trial\n",
    "(1 - s) = probability of failure\n",
    "\n",
    "P (‘k’ successes in ‘n’ trials) = C(n,k)*(s^k)*((1−s)^(n−k))\n",
    "where, \n",
    "C (n, k) = n!/(k!(n−k)!)\n",
    "\n",
    "Step 2: Formula substitution:\n",
    "        \n",
    "n = 20\n",
    "n - k = 5 \n",
    "k = 20 - 5 = 15\n",
    "\n",
    "s = (1/4), where probability of success or the right answer\n",
    "1 - s = 1 - (1/4) = (3/4), where probability of failure or the wrong answer\n",
    "\n",
    "Therefore the binomial distribution is P (exactly 5 out of 20 answers incorrect) = C (20,5) * ((1/4)^15) * ((3/4)^5)\n",
    "\n",
    "= P (5 out of 20) = (20∗19∗18∗17∗16)/(5∗4∗3∗2∗1) * (1/4)^15 * (3/4)^5\n",
    "\n",
    "= 3.4 * 10^(-6) = 0.0000034\n"
   ]
  }
 ],
 "metadata": {
  "kernelspec": {
   "display_name": "Python 3",
   "language": "python",
   "name": "python3"
  },
  "language_info": {
   "codemirror_mode": {
    "name": "ipython",
    "version": 3
   },
   "file_extension": ".py",
   "mimetype": "text/x-python",
   "name": "python",
   "nbconvert_exporter": "python",
   "pygments_lexer": "ipython3",
   "version": "3.6.3"
  }
 },
 "nbformat": 4,
 "nbformat_minor": 2
}
